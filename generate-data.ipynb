{
 "cells": [
  {
   "cell_type": "code",
   "execution_count": 1,
   "metadata": {},
   "outputs": [
    {
     "name": "stderr",
     "output_type": "stream",
     "text": [
      "Using TensorFlow backend.\n"
     ]
    },
    {
     "name": "stdout",
     "output_type": "stream",
     "text": [
      "pygame 1.9.6\n",
      "Hello from the pygame community. https://www.pygame.org/contribute.html\n"
     ]
    }
   ],
   "source": [
    "import numpy as np\n",
    "import cv2\n",
    "from math import sin, cos\n",
    "import time\n",
    "\n",
    "import keras\n",
    "from keras import backend as K\n",
    "\n",
    "import pygame, sys\n",
    "from pygame.locals import *\n",
    "\n",
    "import io\n",
    "import os\n",
    "import pickle\n",
    "\n",
    "import IPython\n",
    "from IPython.display import display\n",
    "\n",
    "from tqdm import tqdm_notebook as tqdm"
   ]
  },
  {
   "cell_type": "code",
   "execution_count": 2,
   "metadata": {},
   "outputs": [],
   "source": [
    "import utils"
   ]
  },
  {
   "cell_type": "code",
   "execution_count": 3,
   "metadata": {},
   "outputs": [
    {
     "name": "stderr",
     "output_type": "stream",
     "text": [
      "WARNING: Logging before flag parsing goes to stderr.\n",
      "W0918 17:50:12.384593 139793379788608 deprecation_wrapper.py:119] From /home/yegor/miniconda3/lib/python3.7/site-packages/keras/backend/tensorflow_backend.py:174: The name tf.get_default_session is deprecated. Please use tf.compat.v1.get_default_session instead.\n",
      "\n",
      "W0918 17:50:12.387059 139793379788608 deprecation_wrapper.py:119] From /home/yegor/miniconda3/lib/python3.7/site-packages/keras/backend/tensorflow_backend.py:181: The name tf.ConfigProto is deprecated. Please use tf.compat.v1.ConfigProto instead.\n",
      "\n",
      "W0918 17:50:12.389200 139793379788608 deprecation_wrapper.py:119] From /home/yegor/miniconda3/lib/python3.7/site-packages/keras/backend/tensorflow_backend.py:186: The name tf.Session is deprecated. Please use tf.compat.v1.Session instead.\n",
      "\n",
      "W0918 17:50:12.779279 139793379788608 deprecation_wrapper.py:119] From /home/yegor/miniconda3/lib/python3.7/site-packages/keras/backend/tensorflow_backend.py:190: The name tf.global_variables is deprecated. Please use tf.compat.v1.global_variables instead.\n",
      "\n"
     ]
    },
    {
     "data": {
      "text/plain": [
       "[]"
      ]
     },
     "execution_count": 3,
     "metadata": {},
     "output_type": "execute_result"
    }
   ],
   "source": [
    "K.tensorflow_backend._get_available_gpus()"
   ]
  },
  {
   "cell_type": "code",
   "execution_count": 4,
   "metadata": {},
   "outputs": [],
   "source": [
    "if 'cam' in vars():\n",
    "    cam.release()\n",
    "cam = cv2.VideoCapture(0)"
   ]
  },
  {
   "cell_type": "code",
   "execution_count": 5,
   "metadata": {},
   "outputs": [
    {
     "data": {
      "image/jpeg": "[encoded data removed]",
      "text/plain": [
       "<IPython.core.display.Image object>"
      ]
     },
     "metadata": {},
     "output_type": "display_data"
    },
    {
     "data": {
      "application/vnd.jupyter.widget-view+json": {
       "model_id": "ae64d1032ef1440385b9e2b05749719e",
       "version_major": 2,
       "version_minor": 0
      },
      "text/plain": [
       "HBox(children=(IntProgress(value=1, bar_style='info', max=1), HTML(value='')))"
      ]
     },
     "metadata": {},
     "output_type": "display_data"
    },
    {
     "ename": "KeyboardInterrupt",
     "evalue": "",
     "output_type": "error",
     "traceback": [
      "\u001b[0;31m---------------------------------------------------------------------------\u001b[0m",
      "\u001b[0;31mKeyboardInterrupt\u001b[0m                         Traceback (most recent call last)",
      "\u001b[0;32m<ipython-input-5-a897a23e885e>\u001b[0m in \u001b[0;36m<module>\u001b[0;34m\u001b[0m\n\u001b[1;32m      5\u001b[0m         \u001b[0;32myield\u001b[0m \u001b[0;32mTrue\u001b[0m\u001b[0;34m\u001b[0m\u001b[0;34m\u001b[0m\u001b[0m\n\u001b[1;32m      6\u001b[0m \u001b[0;32mfor\u001b[0m \u001b[0m_\u001b[0m \u001b[0;32min\u001b[0m \u001b[0mtqdm\u001b[0m\u001b[0;34m(\u001b[0m\u001b[0mgen\u001b[0m\u001b[0;34m(\u001b[0m\u001b[0;34m)\u001b[0m\u001b[0;34m)\u001b[0m\u001b[0;34m:\u001b[0m \u001b[0;31m# tqdm for fps counter\u001b[0m\u001b[0;34m\u001b[0m\u001b[0;34m\u001b[0m\u001b[0m\n\u001b[0;32m----> 7\u001b[0;31m     \u001b[0ms\u001b[0m\u001b[0;34m,\u001b[0m \u001b[0mframe\u001b[0m \u001b[0;34m=\u001b[0m \u001b[0mcam\u001b[0m\u001b[0;34m.\u001b[0m\u001b[0mread\u001b[0m\u001b[0;34m(\u001b[0m\u001b[0;34m)\u001b[0m\u001b[0;34m\u001b[0m\u001b[0;34m\u001b[0m\u001b[0m\n\u001b[0m\u001b[1;32m      8\u001b[0m     \u001b[0;32mif\u001b[0m \u001b[0ms\u001b[0m\u001b[0;34m:\u001b[0m\u001b[0;34m\u001b[0m\u001b[0;34m\u001b[0m\u001b[0m\n\u001b[1;32m      9\u001b[0m         \u001b[0mframe\u001b[0m \u001b[0;34m=\u001b[0m \u001b[0mcv2\u001b[0m\u001b[0;34m.\u001b[0m\u001b[0mcvtColor\u001b[0m\u001b[0;34m(\u001b[0m\u001b[0mframe\u001b[0m\u001b[0;34m,\u001b[0m \u001b[0mcv2\u001b[0m\u001b[0;34m.\u001b[0m\u001b[0mCOLOR_BGR2RGB\u001b[0m\u001b[0;34m)\u001b[0m\u001b[0;34m\u001b[0m\u001b[0;34m\u001b[0m\u001b[0m\n",
      "\u001b[0;31mKeyboardInterrupt\u001b[0m: "
     ]
    }
   ],
   "source": [
    "image = display(\"\", display_id='cam')\n",
    "\n",
    "def gen(): \n",
    "    while True:\n",
    "        yield True\n",
    "for _ in tqdm(gen()): # tqdm for fps counter\n",
    "    s, frame = cam.read()\n",
    "    if s:\n",
    "        frame = cv2.cvtColor(frame, cv2.COLOR_BGR2RGB)\n",
    "        frame = cv2.flip(frame, 1)\n",
    "        image.update(utils.jpeg_array_to_img(frame, 'jpeg'))"
   ]
  },
  {
   "cell_type": "code",
   "execution_count": 6,
   "metadata": {},
   "outputs": [],
   "source": [
    "x_data, y_data = [], []"
   ]
  },
  {
   "cell_type": "code",
   "execution_count": 7,
   "metadata": {},
   "outputs": [],
   "source": [
    "def record_view(pos):\n",
    "    s, frame = cam.read()\n",
    "    if s:\n",
    "        frame = cv2.cvtColor(frame, cv2.COLOR_BGR2RGB)\n",
    "        x_data.append(frame)\n",
    "        y_data.append(pos)"
   ]
  },
  {
   "cell_type": "code",
   "execution_count": 8,
   "metadata": {},
   "outputs": [],
   "source": [
    "\n",
    "import pygame\n",
    "import time\n",
    "from pygame.locals import QUIT, KEYDOWN\n",
    "from math import sin, cos\n",
    "\n",
    "def func(t):\n",
    "    return ((sin(t * 3**0.5)+1) * 1880/2, (cos(t * 2)+1) * 1040/2)\n",
    "\n",
    "\n",
    "def text(font, surface, x, y, text):\n",
    "    text = font.render(text, 1, (0, 0, 0))\n",
    "    surface.blit(text, (x, y))\n",
    "\n",
    "\n",
    "def main():\n",
    "    pygame.init()\n",
    "    font = pygame.font.SysFont('Noto Sans', 14)\n",
    "    \n",
    "    if 'cam' in vars():\n",
    "        cam.release()\n",
    "    cam = cv2.VideoCapture(0)\n",
    "    cam.read()\n",
    "\n",
    "    DISPLAY=pygame.display.set_mode((1920,1080),0,32)\n",
    "\n",
    "    WHITE=(255,255,255)\n",
    "    BLUE=(0,0,255)\n",
    "    LIGHT_BLUE=(220,220,255)\n",
    "    \n",
    "\n",
    "    DISPLAY.fill(WHITE)\n",
    "    \n",
    "    offset = np.random.randint(100000)\n",
    "    i = 0\n",
    "    di = 0.008\n",
    "    \n",
    "    start = time.time()\n",
    "    last = start\n",
    "    \n",
    "    while True:\n",
    "        for event in pygame.event.get():\n",
    "            if event.type==KEYDOWN:\n",
    "                if event.scancode == 36:\n",
    "                    start = time.time()\n",
    "                    last = start\n",
    "                if event.scancode == 119:\n",
    "                    pygame.quit()\n",
    "                    cam.release()\n",
    "                    return\n",
    "            if event.type==QUIT:\n",
    "                pygame.quit()\n",
    "                cam.release()\n",
    "                return\n",
    "                \n",
    "        if time.time() < start + 5:\n",
    "            i += 1\n",
    "            \n",
    "            pygame.draw.rect(DISPLAY,WHITE,(0, 0,400,40))\n",
    "            text(font, DISPLAY, 5, 5, str(len(x_data)))\n",
    "            pygame.draw.rect(DISPLAY,WHITE,(*func((offset + i-1) * di),40,40))\n",
    "            \n",
    "            x, y = func((offset + i) * di)\n",
    "            \n",
    "            pygame.draw.rect(DISPLAY,BLUE,(x, y,40,40))\n",
    "\n",
    "            if i % 50 in range(40, 50):\n",
    "                pygame.draw.rect(DISPLAY,WHITE,(x+10, y+10, 20, 20))\n",
    "                \n",
    "            if i % 50 == 45 and i >= 200:\n",
    "                record_view((x, y))\n",
    "\n",
    "            while time.time() < last + 0.01:\n",
    "                time.sleep(0.001)\n",
    "            last = last + 0.01\n",
    "            pygame.display.update()\n",
    "    \n",
    "    pygame.quit()\n",
    "    cam.release()"
   ]
  },
  {
   "cell_type": "code",
   "execution_count": 9,
   "metadata": {},
   "outputs": [],
   "source": [
    "main()\n",
    "cam.release()"
   ]
  },
  {
   "cell_type": "code",
   "execution_count": 10,
   "metadata": {},
   "outputs": [
    {
     "data": {
      "text/plain": [
       "56"
      ]
     },
     "execution_count": 10,
     "metadata": {},
     "output_type": "execute_result"
    }
   ],
   "source": [
    "len(x_data)"
   ]
  },
  {
   "cell_type": "code",
   "execution_count": 11,
   "metadata": {},
   "outputs": [],
   "source": [
    "import ipywidgets as widgets\n",
    "from IPython.display import display\n",
    "import IPython\n",
    "import keras\n",
    "import io\n",
    "import face_recognition"
   ]
  },
  {
   "cell_type": "code",
   "execution_count": 14,
   "metadata": {},
   "outputs": [
    {
     "data": {
      "application/vnd.jupyter.widget-view+json": {
       "model_id": "714cca802db54ab4af5611cbe8982e09",
       "version_major": 2,
       "version_minor": 0
      },
      "text/plain": [
       "HBox(children=(BoundedIntText(value=0, max=55), Button(description='delete', style=ButtonStyle())))"
      ]
     },
     "metadata": {},
     "output_type": "display_data"
    },
    {
     "data": {
      "image/jpeg": "[encoded data removed]",
      "text/plain": [
       "<IPython.core.display.Image object>"
      ]
     },
     "metadata": {},
     "output_type": "display_data"
    }
   ],
   "source": [
    "def show(i):\n",
    "    copy = x_data[i].copy()\n",
    "    landmarks = face_recognition.face_landmarks(copy)\n",
    "    for face in landmarks:\n",
    "        for x, y in [*face['left_eye'], *face['right_eye']]:\n",
    "            copy[y][x][0] = 255\n",
    "            copy[y][x][1] = 255\n",
    "            copy[y][x][2] = 255\n",
    "    image.update(utils.jpeg_array_to_img(copy))\n",
    "\n",
    "def f(c):\n",
    "    show(c.new)\n",
    "\n",
    "counter = widgets.BoundedIntText(max=len(x_data)-1)\n",
    "counter.observe(f, names=['value'])\n",
    "\n",
    "\n",
    "def del_i(*_):\n",
    "    i = counter.value\n",
    "    x_data.pop(i)\n",
    "    y_data.pop(i)\n",
    "    counter.max = len(x_data) - 1\n",
    "    show(counter.value)\n",
    "\n",
    "delete = widgets.Button(description='delete')\n",
    "delete.on_click(del_i)\n",
    "\n",
    "\n",
    "display(widgets.HBox([counter, delete]))\n",
    "image = display(utils.jpeg_array_to_img(x_data[0]), display_id='image')\n",
    "show(0)\n"
   ]
  },
  {
   "cell_type": "markdown",
   "metadata": {},
   "source": [
    "data format:\n",
    " * train and test data\n",
    "   * directory per image\n",
    "     * contains: image, landmarks, target"
   ]
  },
  {
   "cell_type": "code",
   "execution_count": 16,
   "metadata": {},
   "outputs": [],
   "source": [
    "!mkdir -p data/train data/test\n",
    "\n",
    "def store_image(path, image, landmarks, target):\n",
    "    with open(path + 'landmarks.pickle', 'wb') as landmarks_p:\n",
    "        pickle.dump(landmarks, landmarks_p)\n",
    "    \n",
    "    with open(path + 'target.pickle', 'wb') as target_p:\n",
    "        pickle.dump(target, target_p)\n",
    "    \n",
    "    keras.preprocessing.image.array_to_img(image).save(path + 'image.png', 'png')\n",
    "    \n",
    "\n",
    "def save_image(image, target, p=0.8):\n",
    "    landmarks = face_recognition.face_landmarks(image)\n",
    "    \n",
    "    \n",
    "    # don't store image if landmarks cannot be found (or multiple people)\n",
    "    if len(landmarks) != 1:\n",
    "        return\n",
    "    \n",
    "    # decide to store it as train or test data\n",
    "    \n",
    "    path = 'data/test' if np.random.rand() > p else 'data/train'\n",
    "    path = '{}/{}/'.format(path, str(len(os.listdir(path))))\n",
    "    os.mkdir(path)\n",
    "    \n",
    "    store_image(path, image, landmarks, target)\n",
    "        \n",
    "        "
   ]
  },
  {
   "cell_type": "code",
   "execution_count": 18,
   "metadata": {},
   "outputs": [
    {
     "data": {
      "application/vnd.jupyter.widget-view+json": {
       "model_id": "05663172524b452885f8e6dc7e98063f",
       "version_major": 2,
       "version_minor": 0
      },
      "text/plain": [
       "HBox(children=(IntProgress(value=0, max=56), HTML(value='')))"
      ]
     },
     "metadata": {},
     "output_type": "display_data"
    }
   ],
   "source": [
    "for image, target in zip(tqdm(x_data), y_data):\n",
    "    save_image(image, target)"
   ]
  },
  {
   "cell_type": "code",
   "execution_count": null,
   "metadata": {},
   "outputs": [],
   "source": []
  },
  {
   "cell_type": "code",
   "execution_count": null,
   "metadata": {},
   "outputs": [],
   "source": []
  }
 ],
 "metadata": {
  "kernelspec": {
   "display_name": "Python 3",
   "language": "python",
   "name": "python3"
  },
  "language_info": {
   "codemirror_mode": {
    "name": "ipython",
    "version": 3
   },
   "file_extension": ".py",
   "mimetype": "text/x-python",
   "name": "python",
   "nbconvert_exporter": "python",
   "pygments_lexer": "ipython3",
   "version": "3.7.4"
  }
 },
 "nbformat": 4,
 "nbformat_minor": 4
}
