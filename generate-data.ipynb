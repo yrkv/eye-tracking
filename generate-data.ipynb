{
 "cells": [
  {
   "cell_type": "code",
   "execution_count": 1,
   "metadata": {},
   "outputs": [
    {
     "ename": "ModuleNotFoundError",
     "evalue": "No module named 'cv2'",
     "output_type": "error",
     "traceback": [
      "\u001b[1;31m---------------------------------------------------------------------------\u001b[0m",
      "\u001b[1;31mModuleNotFoundError\u001b[0m                       Traceback (most recent call last)",
      "\u001b[1;32m<ipython-input-1-3d379451717e>\u001b[0m in \u001b[0;36m<module>\u001b[1;34m\u001b[0m\n\u001b[0;32m      1\u001b[0m \u001b[1;32mimport\u001b[0m \u001b[0mnumpy\u001b[0m \u001b[1;32mas\u001b[0m \u001b[0mnp\u001b[0m\u001b[1;33m\u001b[0m\u001b[1;33m\u001b[0m\u001b[0m\n\u001b[1;32m----> 2\u001b[1;33m \u001b[1;32mimport\u001b[0m \u001b[0mcv2\u001b[0m\u001b[1;33m\u001b[0m\u001b[1;33m\u001b[0m\u001b[0m\n\u001b[0m\u001b[0;32m      3\u001b[0m \u001b[1;32mfrom\u001b[0m \u001b[0mmath\u001b[0m \u001b[1;32mimport\u001b[0m \u001b[0msin\u001b[0m\u001b[1;33m,\u001b[0m \u001b[0mcos\u001b[0m\u001b[1;33m\u001b[0m\u001b[1;33m\u001b[0m\u001b[0m\n\u001b[0;32m      4\u001b[0m \u001b[1;32mimport\u001b[0m \u001b[0mtime\u001b[0m\u001b[1;33m\u001b[0m\u001b[1;33m\u001b[0m\u001b[0m\n\u001b[0;32m      5\u001b[0m \u001b[1;33m\u001b[0m\u001b[0m\n",
      "\u001b[1;31mModuleNotFoundError\u001b[0m: No module named 'cv2'"
     ]
    }
   ],
   "source": [
    "import numpy as np\n",
    "import cv2\n",
    "from math import sin, cos\n",
    "import time\n",
    "\n",
    "import pygame, sys\n",
    "from pygame.locals import *\n",
    "\n",
    "import os\n",
    "import pickle\n",
    "\n",
    "import itertools\n",
    "\n",
    "from IPython.display import display"
   ]
  },
  {
   "cell_type": "code",
   "execution_count": 3,
   "metadata": {},
   "outputs": [],
   "source": [
    "import keras\n",
    "import io\n",
    "import IPython\n",
    "\n",
    "def array_to_img(a, fmt='jpeg'):\n",
    "    f = io.BytesIO()\n",
    "    keras.preprocessing.image.array_to_img(a).save(f, fmt)\n",
    "    return IPython.display.Image(data=f.getvalue())"
   ]
  },
  {
   "cell_type": "code",
   "execution_count": 4,
   "metadata": {},
   "outputs": [],
   "source": [
    "# initialize the camera\n",
    "cam = cv2.VideoCapture(0)   # 0 -> index of camera"
   ]
  },
  {
   "cell_type": "code",
   "execution_count": 5,
   "metadata": {},
   "outputs": [
    {
     "data": {
      "image/jpeg": "[encoded data removed]",
      "text/plain": [
       "<IPython.core.display.Image object>"
      ]
     },
     "metadata": {},
     "output_type": "display_data"
    },
    {
     "ename": "KeyboardInterrupt",
     "evalue": "",
     "output_type": "error",
     "traceback": [
      "\u001b[0;31m---------------------------------------------------------------------------\u001b[0m",
      "\u001b[0;31mKeyboardInterrupt\u001b[0m                         Traceback (most recent call last)",
      "\u001b[0;32m<ipython-input-5-34670b8be3f9>\u001b[0m in \u001b[0;36m<module>\u001b[0;34m\u001b[0m\n\u001b[1;32m      1\u001b[0m \u001b[0mimage\u001b[0m \u001b[0;34m=\u001b[0m \u001b[0mdisplay\u001b[0m\u001b[0;34m(\u001b[0m\u001b[0;34m\"\"\u001b[0m\u001b[0;34m,\u001b[0m \u001b[0mdisplay_id\u001b[0m\u001b[0;34m=\u001b[0m\u001b[0;34m'cam'\u001b[0m\u001b[0;34m)\u001b[0m\u001b[0;34m\u001b[0m\u001b[0;34m\u001b[0m\u001b[0m\n\u001b[1;32m      2\u001b[0m \u001b[0;32mwhile\u001b[0m \u001b[0;32mTrue\u001b[0m\u001b[0;34m:\u001b[0m\u001b[0;34m\u001b[0m\u001b[0;34m\u001b[0m\u001b[0m\n\u001b[0;32m----> 3\u001b[0;31m     \u001b[0ms\u001b[0m\u001b[0;34m,\u001b[0m \u001b[0mframe\u001b[0m \u001b[0;34m=\u001b[0m \u001b[0mcam\u001b[0m\u001b[0;34m.\u001b[0m\u001b[0mread\u001b[0m\u001b[0;34m(\u001b[0m\u001b[0;34m)\u001b[0m\u001b[0;34m\u001b[0m\u001b[0;34m\u001b[0m\u001b[0m\n\u001b[0m\u001b[1;32m      4\u001b[0m     \u001b[0;32mif\u001b[0m \u001b[0ms\u001b[0m\u001b[0;34m:\u001b[0m\u001b[0;34m\u001b[0m\u001b[0;34m\u001b[0m\u001b[0m\n\u001b[1;32m      5\u001b[0m         \u001b[0mframe\u001b[0m \u001b[0;34m=\u001b[0m \u001b[0mcv2\u001b[0m\u001b[0;34m.\u001b[0m\u001b[0mcvtColor\u001b[0m\u001b[0;34m(\u001b[0m\u001b[0mframe\u001b[0m\u001b[0;34m,\u001b[0m \u001b[0mcv2\u001b[0m\u001b[0;34m.\u001b[0m\u001b[0mCOLOR_BGR2RGB\u001b[0m\u001b[0;34m)\u001b[0m\u001b[0;34m\u001b[0m\u001b[0;34m\u001b[0m\u001b[0m\n",
      "\u001b[0;31mKeyboardInterrupt\u001b[0m: "
     ]
    }
   ],
   "source": [
    "image = display(\"\", display_id='cam')\n",
    "while True:\n",
    "    s, frame = cam.read()\n",
    "    if s:\n",
    "        frame = cv2.cvtColor(frame, cv2.COLOR_BGR2RGB)\n",
    "        frame = cv2.flip(frame, 1)\n",
    "        image.update(array_to_img(frame))"
   ]
  },
  {
   "cell_type": "code",
   "execution_count": 10,
   "metadata": {},
   "outputs": [
    {
     "name": "stdout",
     "output_type": "stream",
     "text": [
      "found existing data.pickle\n"
     ]
    }
   ],
   "source": [
    "x_data = []\n",
    "y_data = []\n",
    "\n",
    "if 'data.pickle' in os.listdir():\n",
    "    print('found existing data.pickle')\n",
    "    with open('data.pickle', 'rb') as f:\n",
    "        x_data, y_data = pickle.load(f)\n",
    "else:\n",
    "    print('using empty arrays')"
   ]
  },
  {
   "cell_type": "code",
   "execution_count": 11,
   "metadata": {},
   "outputs": [],
   "source": [
    "def record_view(pos):\n",
    "    s, frame = cam.read()\n",
    "    if s:\n",
    "        frame = cv2.cvtColor(frame, cv2.COLOR_BGR2RGB)\n",
    "        x_data.append(frame)\n",
    "        y_data.append(pos)"
   ]
  },
  {
   "cell_type": "code",
   "execution_count": 12,
   "metadata": {},
   "outputs": [],
   "source": [
    "\n",
    "import pygame\n",
    "import time\n",
    "from pygame.locals import QUIT, KEYDOWN\n",
    "from math import sin, cos\n",
    "\n",
    "def func(t):\n",
    "    return ((sin(t * 3**0.5)+1) * 1880/2, (cos(t * 2)+1) * 1040/2)\n",
    "\n",
    "\n",
    "def text(font, surface, x, y, text):\n",
    "    text = font.render(text, 1, (0, 0, 0))\n",
    "    surface.blit(text, (x, y))\n",
    "\n",
    "i = 0\n",
    "def main():\n",
    "    global i\n",
    "    pygame.init()\n",
    "    font = pygame.font.SysFont('Noto Sans', 14)\n",
    "    cam.read()\n",
    "\n",
    "    DISPLAY=pygame.display.set_mode((1920,1080),0,32)\n",
    "\n",
    "    WHITE=(255,255,255)\n",
    "    BLUE=(0,0,255)\n",
    "    LIGHT_BLUE=(220,220,255)\n",
    "    \n",
    "\n",
    "    DISPLAY.fill(WHITE)\n",
    "    \n",
    "    di = 0.008\n",
    "    \n",
    "    start = time.time()\n",
    "    last = start\n",
    "    \n",
    "    while True:\n",
    "        for event in pygame.event.get():\n",
    "            if event.type==KEYDOWN:\n",
    "                if event.scancode == 36:\n",
    "                    start = time.time()\n",
    "                    last = start\n",
    "                if event.scancode == 119:\n",
    "                    pygame.quit()\n",
    "                    return\n",
    "            if event.type==QUIT:\n",
    "                pygame.quit()\n",
    "                return\n",
    "                \n",
    "        if time.time() < start + 5:\n",
    "            i += 1\n",
    "            \n",
    "            pygame.draw.rect(DISPLAY,WHITE,(0, 0,400,40))\n",
    "            text(font, DISPLAY, 5, 5, str(len(x_data)))\n",
    "            pygame.draw.rect(DISPLAY,WHITE,(*func((i-1) * di),40,40))\n",
    "            pygame.draw.rect(DISPLAY,BLUE,(*func(i * di),40,40))\n",
    "\n",
    "            if i % 50 in range(40, 50):\n",
    "                x, y = func(i * di)\n",
    "                pygame.draw.rect(DISPLAY,WHITE,(x+10, y+10, 20, 20))\n",
    "                \n",
    "            if i % 50 == 45:\n",
    "                record_view(func(i * di))\n",
    "\n",
    "            while time.time() < last + 0.01:\n",
    "                time.sleep(0.001)\n",
    "            last = last + 0.01\n",
    "            pygame.display.update()\n",
    "    \n",
    "    pygame.quit()"
   ]
  },
  {
   "cell_type": "code",
   "execution_count": 13,
   "metadata": {},
   "outputs": [],
   "source": [
    "main()"
   ]
  },
  {
   "cell_type": "code",
   "execution_count": 14,
   "metadata": {},
   "outputs": [
    {
     "data": {
      "text/plain": [
       "3500"
      ]
     },
     "execution_count": 14,
     "metadata": {},
     "output_type": "execute_result"
    }
   ],
   "source": [
    "len(x_data)"
   ]
  },
  {
   "cell_type": "code",
   "execution_count": 15,
   "metadata": {},
   "outputs": [],
   "source": [
    "cam.release()"
   ]
  },
  {
   "cell_type": "code",
   "execution_count": 16,
   "metadata": {},
   "outputs": [],
   "source": [
    "import ipywidgets as widgets\n",
    "from IPython.display import display\n",
    "import IPython\n",
    "import keras\n",
    "import io\n",
    "import face_recognition"
   ]
  },
  {
   "cell_type": "code",
   "execution_count": 17,
   "metadata": {},
   "outputs": [
    {
     "data": {
      "application/vnd.jupyter.widget-view+json": {
       "model_id": "0dbfb1dbd7d54bd294af0964f7fe381b",
       "version_major": 2,
       "version_minor": 0
      },
      "text/plain": [
       "HBox(children=(BoundedIntText(value=0, max=3499), Button(description='delete', style=ButtonStyle())))"
      ]
     },
     "metadata": {},
     "output_type": "display_data"
    },
    {
     "data": {
      "image/jpeg": "[encoded data removed]",
      "text/plain": [
       "<IPython.core.display.Image object>"
      ]
     },
     "metadata": {},
     "output_type": "display_data"
    }
   ],
   "source": [
    "def show(i):\n",
    "    copy = x_data[i].copy()\n",
    "    landmarks = face_recognition.face_landmarks(copy)\n",
    "    for face in landmarks:\n",
    "        for x, y in [*face['left_eye'], *face['right_eye']]:\n",
    "            copy[y][x][0] = 255\n",
    "            copy[y][x][1] = 255\n",
    "            copy[y][x][2] = 255\n",
    "    image.update(array_to_img(copy))\n",
    "\n",
    "def f(c):\n",
    "    show(c.new)\n",
    "\n",
    "counter = widgets.BoundedIntText(max=len(x_data)-1)\n",
    "counter.observe(f, names=['value'])\n",
    "\n",
    "\n",
    "def del_i(*_):\n",
    "    i = counter.value\n",
    "    x_data.pop(i)\n",
    "    y_data.pop(i)\n",
    "    counter.max = len(x_data) - 1\n",
    "    show(counter.value)\n",
    "\n",
    "delete = widgets.Button(description='delete')\n",
    "delete.on_click(del_i)\n",
    "\n",
    "\n",
    "display(widgets.HBox([counter, delete]))\n",
    "image = display(array_to_img(x_data[0]), display_id='image')\n",
    "show(0)\n"
   ]
  },
  {
   "cell_type": "code",
   "execution_count": 18,
   "metadata": {},
   "outputs": [],
   "source": [
    "with open('data.pickle', 'wb') as file:\n",
    "    pickle.dump((x_data, y_data), file)"
   ]
  },
  {
   "cell_type": "code",
   "execution_count": null,
   "metadata": {},
   "outputs": [],
   "source": []
  },
  {
   "cell_type": "code",
   "execution_count": null,
   "metadata": {},
   "outputs": [],
   "source": []
  },
  {
   "cell_type": "code",
   "execution_count": 13,
   "metadata": {},
   "outputs": [],
   "source": [
    "from tqdm import tqdm"
   ]
  },
  {
   "cell_type": "code",
   "execution_count": 14,
   "metadata": {},
   "outputs": [
    {
     "name": "stderr",
     "output_type": "stream",
     "text": [
      "100%|██████████| 3000/3000 [08:32<00:00,  5.88it/s]\n"
     ]
    }
   ],
   "source": [
    "for i, im in enumerate(tqdm(x_data)):\n",
    "    if not face_recognition.face_landmarks(im):\n",
    "        print(i)"
   ]
  },
  {
   "cell_type": "code",
   "execution_count": null,
   "metadata": {},
   "outputs": [],
   "source": []
  },
  {
   "cell_type": "code",
   "execution_count": null,
   "metadata": {},
   "outputs": [],
   "source": []
  },
  {
   "cell_type": "code",
   "execution_count": null,
   "metadata": {},
   "outputs": [],
   "source": []
  },
  {
   "cell_type": "code",
   "execution_count": null,
   "metadata": {},
   "outputs": [],
   "source": []
  },
  {
   "cell_type": "code",
   "execution_count": null,
   "metadata": {},
   "outputs": [],
   "source": []
  },
  {
   "cell_type": "code",
   "execution_count": null,
   "metadata": {},
   "outputs": [],
   "source": []
  },
  {
   "cell_type": "code",
   "execution_count": null,
   "metadata": {},
   "outputs": [],
   "source": []
  }
 ],
 "metadata": {
  "kernelspec": {
   "display_name": "Python 3",
   "language": "python",
   "name": "python3"
  },
  "language_info": {
   "codemirror_mode": {
    "name": "ipython",
    "version": 3
   },
   "file_extension": ".py",
   "mimetype": "text/x-python",
   "name": "python",
   "nbconvert_exporter": "python",
   "pygments_lexer": "ipython3",
   "version": "3.7.4"
  }
 },
 "nbformat": 4,
 "nbformat_minor": 4
}
